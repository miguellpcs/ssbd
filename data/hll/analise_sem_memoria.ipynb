{
 "cells": [
  {
   "cell_type": "code",
   "execution_count": 1,
   "metadata": {},
   "outputs": [],
   "source": [
    "import pandas as pd\n",
    "import math\n",
    "import numpy as np\n",
    "import seaborn as sns\n",
    "import matplotlib.pyplot as plt\n",
    "from sklearn.linear_model import LinearRegression\n",
    "\n",
    "sns.set_theme(style=\"ticks\")\n",
    "\n",
    "pd.set_option(\"display.max_columns\", None) \n",
    "#pd.set_option(\"display.max_rows\", None) "
   ]
  },
  {
   "cell_type": "code",
   "execution_count": 2,
   "metadata": {},
   "outputs": [],
   "source": [
    "df = pd.read_csv(\"hll_trace.csv\")\n",
    "df_base = pd.read_csv(\"hll_baseline.csv\")\n",
    "df_base.drop([\"id\",\"epsilon\",\"delta\"], axis=1, inplace=True)"
   ]
  },
  {
   "cell_type": "code",
   "execution_count": 3,
   "metadata": {},
   "outputs": [
    {
     "data": {
      "text/plain": [
       "Index(['id', 'target', 'epsilon', 'delta', 'tempo_inicio', 'tempo_fim',\n",
       "       'prediction'],\n",
       "      dtype='object')"
      ]
     },
     "execution_count": 3,
     "metadata": {},
     "output_type": "execute_result"
    }
   ],
   "source": [
    "df.columns"
   ]
  },
  {
   "cell_type": "code",
   "execution_count": 4,
   "metadata": {},
   "outputs": [
    {
     "data": {
      "text/plain": [
       "array([0, 1, 7, 8])"
      ]
     },
     "execution_count": 4,
     "metadata": {},
     "output_type": "execute_result"
    }
   ],
   "source": [
    "TARGETS = df[\"target\"].unique()\n",
    "TARGETS.sort()\n",
    "TARGETS"
   ]
  },
  {
   "cell_type": "code",
   "execution_count": 5,
   "metadata": {},
   "outputs": [],
   "source": [
    "METRICAS = [\"prediction\", \"tempo_exec\", \"k_times_N\"]"
   ]
  },
  {
   "cell_type": "code",
   "execution_count": 6,
   "metadata": {},
   "outputs": [
    {
     "data": {
      "text/html": [
       "<div>\n",
       "<style scoped>\n",
       "    .dataframe tbody tr th:only-of-type {\n",
       "        vertical-align: middle;\n",
       "    }\n",
       "\n",
       "    .dataframe tbody tr th {\n",
       "        vertical-align: top;\n",
       "    }\n",
       "\n",
       "    .dataframe thead th {\n",
       "        text-align: right;\n",
       "    }\n",
       "</style>\n",
       "<table border=\"1\" class=\"dataframe\">\n",
       "  <thead>\n",
       "    <tr style=\"text-align: right;\">\n",
       "      <th></th>\n",
       "      <th>tempo_inicio</th>\n",
       "      <th>tempo_fim</th>\n",
       "    </tr>\n",
       "  </thead>\n",
       "  <tbody>\n",
       "    <tr>\n",
       "      <th>0</th>\n",
       "      <td>Sun Jul 25 20:11:29 -03 2021</td>\n",
       "      <td>Sun Jul 25 20:11:30 -03 2021</td>\n",
       "    </tr>\n",
       "    <tr>\n",
       "      <th>1</th>\n",
       "      <td>Sun Jul 25 20:11:31 -03 2021</td>\n",
       "      <td>Sun Jul 25 20:11:33 -03 2021</td>\n",
       "    </tr>\n",
       "    <tr>\n",
       "      <th>2</th>\n",
       "      <td>Sun Jul 25 20:11:34 -03 2021</td>\n",
       "      <td>Sun Jul 25 20:11:35 -03 2021</td>\n",
       "    </tr>\n",
       "    <tr>\n",
       "      <th>3</th>\n",
       "      <td>Sun Jul 25 20:11:36 -03 2021</td>\n",
       "      <td>Sun Jul 25 20:11:37 -03 2021</td>\n",
       "    </tr>\n",
       "    <tr>\n",
       "      <th>4</th>\n",
       "      <td>Sun Jul 25 20:11:38 -03 2021</td>\n",
       "      <td>Sun Jul 25 20:11:40 -03 2021</td>\n",
       "    </tr>\n",
       "  </tbody>\n",
       "</table>\n",
       "</div>"
      ],
      "text/plain": [
       "                   tempo_inicio                     tempo_fim\n",
       "0  Sun Jul 25 20:11:29 -03 2021  Sun Jul 25 20:11:30 -03 2021\n",
       "1  Sun Jul 25 20:11:31 -03 2021  Sun Jul 25 20:11:33 -03 2021\n",
       "2  Sun Jul 25 20:11:34 -03 2021  Sun Jul 25 20:11:35 -03 2021\n",
       "3  Sun Jul 25 20:11:36 -03 2021  Sun Jul 25 20:11:37 -03 2021\n",
       "4  Sun Jul 25 20:11:38 -03 2021  Sun Jul 25 20:11:40 -03 2021"
      ]
     },
     "execution_count": 6,
     "metadata": {},
     "output_type": "execute_result"
    }
   ],
   "source": [
    "df[[\"tempo_inicio\", \"tempo_fim\"]].head()"
   ]
  },
  {
   "cell_type": "code",
   "execution_count": 7,
   "metadata": {},
   "outputs": [],
   "source": [
    "## A posição referente a hora muda de acordo com a saída do comando `date`\n",
    "df['tempo_inicio'] = df['tempo_inicio'].apply(lambda x: x.split(' ')[3])\n",
    "df['tempo_fim'] = df['tempo_fim'].apply(lambda x: x.split(' ')[3])\n",
    "#\n",
    "df_base['tempo_inicio'] = df_base['tempo_inicio'].apply(lambda x: x.split(' ')[3])\n",
    "df_base['tempo_fim'] = df_base['tempo_fim'].apply(lambda x: x.split(' ')[3])"
   ]
  },
  {
   "cell_type": "code",
   "execution_count": 8,
   "metadata": {},
   "outputs": [],
   "source": [
    "df['tempo_inicio'] = pd.to_datetime(df['tempo_inicio'], format='%H:%M:%S')\n",
    "df['tempo_fim'] = pd.to_datetime(df['tempo_fim'], format='%H:%M:%S')\n",
    "df['tempo_exec'] = (df['tempo_fim'] - df['tempo_inicio']).dt.seconds\n",
    "df.drop(['tempo_inicio', 'tempo_fim'], axis=1, inplace=True)\n",
    "#\n",
    "df_base['tempo_inicio'] = pd.to_datetime(df_base['tempo_inicio'], format='%H:%M:%S')\n",
    "df_base['tempo_fim'] = pd.to_datetime(df_base['tempo_fim'], format='%H:%M:%S')\n",
    "df_base['tempo_exec'] = (df_base['tempo_fim'] - df_base['tempo_inicio']).dt.seconds\n",
    "df_base.drop(['tempo_inicio', 'tempo_fim'], axis=1, inplace=True)"
   ]
  },
  {
   "cell_type": "code",
   "execution_count": 9,
   "metadata": {},
   "outputs": [],
   "source": [
    "df['k_posicoes'] = ((1.04/df['epsilon'])*(1.04/df['epsilon'])).apply(lambda x: int(math.log2(x+1)))\n",
    "df[\"N_copias\"] = df[\"delta\"].apply(lambda x: int(math.log(1/x)+1))\n",
    "df[\"k_times_N\"] = df['k_posicoes'] * df[\"N_copias\"]"
   ]
  },
  {
   "cell_type": "code",
   "execution_count": 10,
   "metadata": {},
   "outputs": [
    {
     "data": {
      "text/plain": [
       "array([6, 4, 3, 2])"
      ]
     },
     "execution_count": 10,
     "metadata": {},
     "output_type": "execute_result"
    }
   ],
   "source": [
    "df.sort_values([\"target\", \"epsilon\", \"delta\", \"id\"])[\"k_posicoes\"].unique()"
   ]
  },
  {
   "cell_type": "code",
   "execution_count": 11,
   "metadata": {},
   "outputs": [
    {
     "data": {
      "text/html": [
       "<div>\n",
       "<style scoped>\n",
       "    .dataframe tbody tr th:only-of-type {\n",
       "        vertical-align: middle;\n",
       "    }\n",
       "\n",
       "    .dataframe tbody tr th {\n",
       "        vertical-align: top;\n",
       "    }\n",
       "\n",
       "    .dataframe thead th {\n",
       "        text-align: right;\n",
       "    }\n",
       "</style>\n",
       "<table border=\"1\" class=\"dataframe\">\n",
       "  <thead>\n",
       "    <tr style=\"text-align: right;\">\n",
       "      <th></th>\n",
       "      <th>target</th>\n",
       "      <th>prediction</th>\n",
       "      <th>tempo_exec</th>\n",
       "    </tr>\n",
       "  </thead>\n",
       "  <tbody>\n",
       "    <tr>\n",
       "      <th>0</th>\n",
       "      <td>0</td>\n",
       "      <td>1522917</td>\n",
       "      <td>2</td>\n",
       "    </tr>\n",
       "    <tr>\n",
       "      <th>1</th>\n",
       "      <td>1</td>\n",
       "      <td>6566</td>\n",
       "      <td>1</td>\n",
       "    </tr>\n",
       "    <tr>\n",
       "      <th>7</th>\n",
       "      <td>7</td>\n",
       "      <td>223090</td>\n",
       "      <td>2</td>\n",
       "    </tr>\n",
       "    <tr>\n",
       "      <th>8</th>\n",
       "      <td>8</td>\n",
       "      <td>78</td>\n",
       "      <td>1</td>\n",
       "    </tr>\n",
       "  </tbody>\n",
       "</table>\n",
       "</div>"
      ],
      "text/plain": [
       "   target  prediction  tempo_exec\n",
       "0       0     1522917           2\n",
       "1       1        6566           1\n",
       "7       7      223090           2\n",
       "8       8          78           1"
      ]
     },
     "execution_count": 11,
     "metadata": {},
     "output_type": "execute_result"
    }
   ],
   "source": [
    "df_base = df_base[df_base[\"target\"].isin(TARGETS)]\n",
    "df_base"
   ]
  },
  {
   "cell_type": "raw",
   "metadata": {
    "scrolled": true
   },
   "source": [
    "df.groupby([\"target\",\"epsilon\", \"delta\"]).describe()['tempo_exec']\n",
    "df.groupby([\"target\",\"epsilon\", \"delta\"]).describe()['prediction']"
   ]
  },
  {
   "cell_type": "raw",
   "metadata": {},
   "source": [
    "# Initialize a grid of plots with an Axes for each walk\n",
    "grid = sns.FacetGrid(df, col=\"target\", hue=\"delta\")\n",
    "\n",
    "# Draw a horizontal line to show the starting point\n",
    "#grid.map(plt.axhline, y=0, ls=\":\", c=\".5\")\n",
    "\n",
    "# Draw a line plot to show the trajectory of each random walk\n",
    "grid.map(plt.plot, \"epsilon\", \"prediction\", marker=\"o\")\n"
   ]
  },
  {
   "cell_type": "code",
   "execution_count": null,
   "metadata": {},
   "outputs": [],
   "source": [
    "EPS = df[\"epsilon\"].unique()\n",
    "EPS.sort()\n",
    "UNIQ_EPS = len(EPS)\n",
    "EPS"
   ]
  },
  {
   "cell_type": "code",
   "execution_count": null,
   "metadata": {
    "scrolled": false
   },
   "outputs": [],
   "source": [
    "for m in METRICAS:\n",
    "    if (m == \"k_times_N\"):\n",
    "        _m = \"prediction\"\n",
    "    else:\n",
    "        _m = m\n",
    "    for n in TARGETS:\n",
    "        \n",
    "        g = sns.catplot(\n",
    "                data=df[df['target']==n], x='delta', y=m,\n",
    "                col='epsilon', kind='box', col_wrap=UNIQ_EPS\n",
    "        )\n",
    "        for i in range(0,UNIQ_EPS):\n",
    "            t = df_base[df_base[\"target\"]==n][_m].iloc[0]\n",
    "            g.axes[i].hlines(y=t,xmin=-1, xmax=UNIQ_EPS)\n",
    "            if (m == \"prediction\"):\n",
    "                e = EPS[i]\n",
    "                #(i+1)/10\n",
    "                g.axes[i].hlines(y=t*(1+e),xmin=-1, xmax=UNIQ_EPS, colors = [\"red\"], linestyles=\"dashed\")\n",
    "                g.axes[i].hlines(y=t*(1-e),xmin=-1, xmax=UNIQ_EPS, colors = [\"red\"], linestyles=\"dashed\")\n",
    "\n",
    "        #g.set_axis_labels(\"Delta\", \"Predição\")\n",
    "        if (m == 'k_times_N'):\n",
    "            g.set(yscale=\"log\")\n",
    "        g.set_titles(col_template=\"Epsilon: {col_name}\")\n",
    "        g.savefig(f\"../target_{n}_{m}.png\")"
   ]
  }
 ],
 "metadata": {
  "interpreter": {
   "hash": "31f2aee4e71d21fbe5cf8b01ff0e069b9275f58929596ceb00d14d90e3e16cd6"
  },
  "kernelspec": {
   "display_name": "Python 3.8.2 64-bit",
   "name": "python3"
  },
  "language_info": {
   "codemirror_mode": {
    "name": "ipython",
    "version": 3
   },
   "file_extension": ".py",
   "mimetype": "text/x-python",
   "name": "python",
   "nbconvert_exporter": "python",
   "pygments_lexer": "ipython3",
   "version": "3.8.2"
  }
 },
 "nbformat": 4,
 "nbformat_minor": 5
}